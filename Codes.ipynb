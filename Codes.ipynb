{
 "cells": [
  {
   "cell_type": "markdown",
   "metadata": {},
   "source": [
    "# Interactive Learning Course\n",
    "## HW #2, Multi-Armed Bandits"
   ]
  },
  {
   "cell_type": "code",
   "execution_count": 216,
   "metadata": {
    "id": "7BGc1GradpO3"
   },
   "outputs": [],
   "source": [
    "import numpy as np\n",
    "from abc import ABC, abstractmethod\n",
    "import gym\n",
    "import matplotlib.pyplot as plt"
   ]
  },
  {
   "cell_type": "markdown",
   "metadata": {},
   "source": [
    "# Part 2"
   ]
  },
  {
   "cell_type": "markdown",
   "metadata": {},
   "source": [
    "## Reward class"
   ]
  },
  {
   "cell_type": "code",
   "execution_count": null,
   "metadata": {},
   "outputs": [],
   "source": [
    "class Reward(ABC):\n",
    "    def __init__(self, debts=[5, 20, 100]):\n",
    "        super(Reward, self).__init__()\n",
    "        self.debts = debts\n",
    "        \n",
    "    @abstractmethod\n",
    "    def get_reward(self, action):\n",
    "        pass"
   ]
  },
  {
   "cell_type": "code",
   "execution_count": null,
   "metadata": {},
   "outputs": [],
   "source": [
    "class Student(Reward):\n",
    "    def __init__(self):\n",
    "        super(Student, self).__init__()\n",
    "\n",
    "    def get_reward(self, action):\n",
    "        if action == 0:\n",
    "            obs = np.random.choice([4, 5, 5.1], p=[0.2, 0.2, 0.6]) - 5.0\n",
    "        elif action == 1:\n",
    "            obs = np.random.choice([5, 10, 20, 20.75], p=[0.5, 0.3, 0.1, 0.1]) - 20.0\n",
    "        else:\n",
    "            obs = np.random.choice([10, 20, 50, 100, 105], p=[0.5, 0.3, 0.1, 0.05, 0.05]) - 100.0\n",
    "        \n",
    "        return obs, obs - self.debts[action]"
   ]
  },
  {
   "cell_type": "code",
   "execution_count": null,
   "metadata": {},
   "outputs": [],
   "source": [
    "class GovStaff(Reward):\n",
    "    def __init__(self):\n",
    "        super(GovStaff, self).__init__()\n",
    "\n",
    "    def get_reward(self, action):\n",
    "        if action == 0:\n",
    "            obs = np.random.choice([4, 5, 5.1], p=[0.05, 0.3, 0.65])\n",
    "        elif action == 1:\n",
    "            obs = np.random.choice([5, 10, 20, 20.75], p=[0.1, 0.1, 0.3, 0.5])\n",
    "        else:\n",
    "            obs = np.random.choice([20, 50, 80, 100, 105], p=[0.1, 0.1, 0.2, 0.3, 0.3])\n",
    "        \n",
    "        return obs, obs - self.debts[action]"
   ]
  },
  {
   "cell_type": "code",
   "execution_count": null,
   "metadata": {},
   "outputs": [],
   "source": [
    "class SelfEmp(Reward):\n",
    "    def __init__(self):\n",
    "        super(SelfEmp, self).__init__()\n",
    "\n",
    "    def get_reward(self, action):\n",
    "        if action == 0:\n",
    "            obs = np.random.choice([0, 2.5, 5.1], p=[0.8, 0.1, 0.1])\n",
    "        elif action == 1:\n",
    "            obs = np.random.choice([5, 10, 20, 20.75], p=[0.05, 0.05, 0.3, 0.6])\n",
    "        else:\n",
    "            obs = np.random.choice([20, 50, 80, 100, 105], p=[0.02, 0.03, 0.05, 0.2, 0.7])\n",
    "        \n",
    "        return obs, obs - self.debts[action]"
   ]
  },
  {
   "cell_type": "markdown",
   "metadata": {},
   "source": [
    "## Environment"
   ]
  },
  {
   "cell_type": "code",
   "execution_count": null,
   "metadata": {},
   "outputs": [],
   "source": [
    "class Environment:\n",
    "    def __init__(self, id, reward):\n",
    "        ## YOUR CODES ##\n",
    "    \n",
    "    def calc_reward(self, action):\n",
    "        ## YOUR CODES ##\n",
    "\n",
    "    def get_available_actions(self):\n",
    "        ## YOUR CODES ##"
   ]
  },
  {
   "cell_type": "markdown",
   "metadata": {},
   "source": [
    "# Part 3"
   ]
  },
  {
   "cell_type": "code",
   "execution_count": 241,
   "metadata": {
    "id": "04m7DiW7hN0D"
   },
   "outputs": [],
   "source": [
    "class Agent:\n",
    "    def __init__(self, _id, env=None, alpha=0, beta=1, gamma=1):\n",
    "        ## YOUR CODES ##\n",
    "\n",
    "    def choose_action(self):\n",
    "        ## YOUR CODES ##\n",
    "    \n",
    "    def calculate_utility(self, reward):\n",
    "        ## YOUR CODES ##\n",
    "    \n",
    "    def take_action(self, action):\n",
    "        ## YOUR CODES ##\n",
    "    \n",
    "    def update_value(self, action, util):\n",
    "        ## YOUR CODES ##\n",
    "\n",
    "    def step(self, best_reward, trial):\n",
    "        ## YOUR CODES ##\n",
    "\n",
    "    def reset(self):\n",
    "        ## YOUR CODES ##\n",
    "    \n",
    "    def get_rewards(self):\n",
    "        ## YOUR CODES ##\n",
    "    \n",
    "    def get_regrets(self):\n",
    "        ## YOUR CODES ##"
   ]
  },
  {
   "cell_type": "code",
   "execution_count": null,
   "metadata": {},
   "outputs": [],
   "source": []
  }
 ],
 "metadata": {
  "colab": {
   "collapsed_sections": [],
   "provenance": []
  },
  "kernelspec": {
   "display_name": "Python 3",
   "language": "python",
   "name": "python3"
  },
  "language_info": {
   "codemirror_mode": {
    "name": "ipython",
    "version": 3
   },
   "file_extension": ".py",
   "mimetype": "text/x-python",
   "name": "python",
   "nbconvert_exporter": "python",
   "pygments_lexer": "ipython3",
   "version": "3.8.5"
  }
 },
 "nbformat": 4,
 "nbformat_minor": 1
}
